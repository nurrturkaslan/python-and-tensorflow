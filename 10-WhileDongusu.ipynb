{
 "cells": [
  {
   "cell_type": "code",
   "execution_count": 1,
   "metadata": {},
   "outputs": [
    {
     "name": "stdout",
     "output_type": "stream",
     "text": [
      "0\n",
      "1\n",
      "2\n",
      "3\n",
      "4\n",
      "5\n",
      "6\n",
      "7\n",
      "8\n",
      "9\n"
     ]
    }
   ],
   "source": [
    "x = 0\n",
    "while  x < 10:\n",
    "    print(x)\n",
    "    x = x + 1"
   ]
  },
  {
   "cell_type": "code",
   "execution_count": 2,
   "metadata": {},
   "outputs": [],
   "source": [
    "myList = [1,2,3,4,5]"
   ]
  },
  {
   "cell_type": "code",
   "execution_count": 3,
   "metadata": {},
   "outputs": [
    {
     "data": {
      "text/plain": [
       "5"
      ]
     },
     "execution_count": 3,
     "metadata": {},
     "output_type": "execute_result"
    }
   ],
   "source": [
    "myList.pop() # pop (Son elemanı çıkarıyor)"
   ]
  },
  {
   "cell_type": "code",
   "execution_count": 4,
   "metadata": {},
   "outputs": [
    {
     "data": {
      "text/plain": [
       "[1, 2, 3, 4]"
      ]
     },
     "execution_count": 4,
     "metadata": {},
     "output_type": "execute_result"
    }
   ],
   "source": [
    "myList"
   ]
  },
  {
   "cell_type": "code",
   "execution_count": 5,
   "metadata": {},
   "outputs": [
    {
     "data": {
      "text/plain": [
       "[1, 2, 3, 4, 5]"
      ]
     },
     "execution_count": 5,
     "metadata": {},
     "output_type": "execute_result"
    }
   ],
   "source": [
    "myList.append(5)\n",
    "myList"
   ]
  },
  {
   "cell_type": "code",
   "execution_count": 6,
   "metadata": {},
   "outputs": [
    {
     "data": {
      "text/plain": [
       "True"
      ]
     },
     "execution_count": 6,
     "metadata": {},
     "output_type": "execute_result"
    }
   ],
   "source": [
    "3 in myList"
   ]
  },
  {
   "cell_type": "code",
   "execution_count": 7,
   "metadata": {},
   "outputs": [
    {
     "name": "stdout",
     "output_type": "stream",
     "text": [
      "3 hala listenim içinde\n",
      "3 hala listenim içinde\n",
      "3 hala listenim içinde\n"
     ]
    }
   ],
   "source": [
    "while 3 in myList:\n",
    "    print(\"3 hala listenim içinde\")\n",
    "    myList.pop()"
   ]
  },
  {
   "cell_type": "code",
   "execution_count": 8,
   "metadata": {},
   "outputs": [
    {
     "name": "stdout",
     "output_type": "stream",
     "text": [
      "0\n",
      "1\n",
      "2\n",
      "3\n"
     ]
    }
   ],
   "source": [
    "numara = 0\n",
    "while numara < 5:\n",
    "    if numara == 4:\n",
    "        break\n",
    "    print(numara)\n",
    "    numara = numara + 1"
   ]
  },
  {
   "cell_type": "code",
   "execution_count": 14,
   "metadata": {},
   "outputs": [
    {
     "name": "stdout",
     "output_type": "stream",
     "text": [
      "yeni değişkenin güncel değeri : 0\n",
      "yeni değişkenin güncel değeri : 1\n",
      "yeni değişkenin güncel değeri : 2\n",
      "yeni değişkenin güncel değeri : 3\n",
      "yeni değişkenin güncel değeri : 4\n",
      "yeni değişkenin güncel değeri : 5\n",
      "yeni değişkenin güncel değeri : 6\n",
      "yeni değişkenin güncel değeri : 7\n",
      "yeni değişkenin güncel değeri : 8\n",
      "yeni değişkenin güncel değeri : 9\n",
      "yeni değişkenin güncel değeri : 10\n",
      "yeni değişkenin güncel değeri : 11\n",
      "yeni değişkenin güncel değeri : 12\n",
      "yeni değişkenin güncel değeri : 13\n",
      "yeni değişkenin güncel değeri : 14\n"
     ]
    }
   ],
   "source": [
    "newVariable = 0\n",
    "while newVariable < 15:\n",
    "    print(\"yeni değişkenin güncel değeri : \" + str(newVariable))\n",
    "    newVariable = newVariable +1"
   ]
  },
  {
   "cell_type": "code",
   "execution_count": 15,
   "metadata": {},
   "outputs": [
    {
     "name": "stdout",
     "output_type": "stream",
     "text": [
      "yeni değişkenin güncel değeri : 0\n",
      "yeni değişkenin güncel değeri : 1\n",
      "yeni değişkenin güncel değeri : 2\n",
      "yeni değişkenin güncel değeri : 3\n",
      "yeni değişkenin güncel değeri : 4\n",
      "yeni değişkenin güncel değeri : 5\n",
      "yeni değişkenin güncel değeri : 6\n",
      "yeni değişkenin güncel değeri : 7\n",
      "yeni değişkenin güncel değeri : 8\n",
      "yeni değişkenin güncel değeri : 9\n",
      "yeni değişkenin güncel değeri : 10\n",
      "yeni değişkenin güncel değeri : 11\n",
      "yeni değişkenin güncel değeri : 12\n",
      "yeni değişkenin güncel değeri : 13\n",
      "yeni değişkenin güncel değeri : 14\n"
     ]
    }
   ],
   "source": [
    "newVariable = 0\n",
    "while newVariable < 15:\n",
    "    print(f\"yeni değişkenin güncel değeri : {newVariable}\") \n",
    "    newVariable = newVariable +1"
   ]
  }
 ],
 "metadata": {
  "kernelspec": {
   "display_name": "Python 3",
   "language": "python",
   "name": "python3"
  },
  "language_info": {
   "codemirror_mode": {
    "name": "ipython",
    "version": 3
   },
   "file_extension": ".py",
   "mimetype": "text/x-python",
   "name": "python",
   "nbconvert_exporter": "python",
   "pygments_lexer": "ipython3",
   "version": "3.8.3"
  }
 },
 "nbformat": 4,
 "nbformat_minor": 4
}
