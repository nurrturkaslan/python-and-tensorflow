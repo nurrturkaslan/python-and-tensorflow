{
 "cells": [
  {
   "cell_type": "code",
   "execution_count": 1,
   "metadata": {},
   "outputs": [],
   "source": [
    "def agg(num1, num2):\n",
    "    return num1+num2"
   ]
  },
  {
   "cell_type": "code",
   "execution_count": 2,
   "metadata": {},
   "outputs": [
    {
     "name": "stdout",
     "output_type": "stream",
     "text": [
      "ilk numarayı giriniz: 10\n",
      "ikinci numarayı giriniz: 20\n"
     ]
    },
    {
     "data": {
      "text/plain": [
       "30"
      ]
     },
     "execution_count": 2,
     "metadata": {},
     "output_type": "execute_result"
    }
   ],
   "source": [
    "x = int(input(\"ilk numarayı giriniz: \"))\n",
    "y = int(input(\"ikinci numarayı giriniz: \"))\n",
    "agg(x,y)"
   ]
  },
  {
   "cell_type": "code",
   "execution_count": 3,
   "metadata": {},
   "outputs": [],
   "source": [
    "#hata oluşabilecek durumlarda kullandığımız \"try ve except\" kavramlarını öğrenmiştik."
   ]
  },
  {
   "cell_type": "code",
   "execution_count": 4,
   "metadata": {},
   "outputs": [],
   "source": [
    "### try & except & else & finally"
   ]
  },
  {
   "cell_type": "code",
   "execution_count": 5,
   "metadata": {},
   "outputs": [
    {
     "name": "stdout",
     "output_type": "stream",
     "text": [
      "inputa numaranızı giriniz: atıl\n",
      "Lütfen geçekten numara giriniz\n",
      "finally çağırıldı\n",
      "inputa numaranızı giriniz: \n",
      "Lütfen geçekten numara giriniz\n",
      "finally çağırıldı\n",
      "inputa numaranızı giriniz: 10\n",
      "teşekkürler\n",
      "finally çağırıldı\n"
     ]
    }
   ],
   "source": [
    "while True: #devamlı devamlı yapalım ve sonuçları görelim. sonsuz döngüye sokuyoruz\n",
    "    try:\n",
    "        benimInt = int(input(\"inputa numaranızı giriniz: \"))\n",
    "    except:\n",
    "        print(\"Lütfen geçekten numara giriniz\")\n",
    "        continue #devam et\n",
    "    else:\n",
    "        print(\"teşekkürler\")\n",
    "        break\n",
    "    finally: #sonunda ne olursa olsun çağır demek\n",
    "        print(\"finally çağırıldı\")\n",
    "    "
   ]
  },
  {
   "cell_type": "code",
   "execution_count": null,
   "metadata": {},
   "outputs": [],
   "source": [
    "#yukarıda ilk string bir ifade girdiğimdeki çıktı yer alıyor"
   ]
  },
  {
   "cell_type": "code",
   "execution_count": 6,
   "metadata": {},
   "outputs": [],
   "source": [
    "#break çağırıldı ve döngüden çıktık.\n",
    "#peki madem else bizim try'daki istediğimiz şey olunca çağırılıyor\n",
    "#try a koysak döngüyü bitirecek\n",
    "#başka bir şey olsun istediğimiz sürece else altında kullanmak mantıklı"
   ]
  }
 ],
 "metadata": {
  "kernelspec": {
   "display_name": "Python 3",
   "language": "python",
   "name": "python3"
  },
  "language_info": {
   "codemirror_mode": {
    "name": "ipython",
    "version": 3
   },
   "file_extension": ".py",
   "mimetype": "text/x-python",
   "name": "python",
   "nbconvert_exporter": "python",
   "pygments_lexer": "ipython3",
   "version": "3.8.3"
  }
 },
 "nbformat": 4,
 "nbformat_minor": 4
}
